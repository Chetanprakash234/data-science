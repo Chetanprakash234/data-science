{
 "cells": [
  {
   "cell_type": "markdown",
   "id": "0900ab68",
   "metadata": {},
   "source": [
    "Pandas"
   ]
  },
  {
   "cell_type": "markdown",
   "id": "01633e7e",
   "metadata": {},
   "source": [
    "Pandas is a Python library used for working with data sets.\n",
    "\n",
    "It has functions for analyzing, cleaning, exploring, and manipulating data.\n",
    "\n",
    "The name \"Pandas\" has a reference to both \"Panel Data\", and \"Python Data Analysis\" and was created by Wes McKinney in 2008."
   ]
  },
  {
   "cell_type": "markdown",
   "id": "650ac295",
   "metadata": {},
   "source": [
    "========================Import the pandas Module====================="
   ]
  },
  {
   "cell_type": "code",
   "execution_count": 1,
   "id": "9164c4c5",
   "metadata": {},
   "outputs": [],
   "source": [
    "import pandas as pd"
   ]
  },
  {
   "cell_type": "markdown",
   "id": "6e964ac8",
   "metadata": {},
   "source": [
    "========================== Series Command In Pandas===================\n",
    "===========================lets Do it With Example===================="
   ]
  },
  {
   "cell_type": "code",
   "execution_count": 2,
   "id": "b66b7050",
   "metadata": {},
   "outputs": [
    {
     "name": "stdout",
     "output_type": "stream",
     "text": [
      "0     Apple\n",
      "1     Mango\n",
      "2      Kiwi\n",
      "3    Orange\n",
      "dtype: object\n"
     ]
    }
   ],
   "source": [
    "fruits = ['Apple','Mango','Kiwi','Orange']\n",
    "data = pd.Series(fruits)\n",
    "print(data) # data show with the defaulr Index Number "
   ]
  },
  {
   "cell_type": "markdown",
   "id": "f350c378",
   "metadata": {},
   "source": [
    " ===================Syntax of Series Command=================\n",
    "    Data.Series(data=None,index=None,dtype: 'Dtype | None' = None,name=None,\n",
    "                            copy: 'bool' = False,fastpath: 'bool' = False,)"
   ]
  },
  {
   "cell_type": "code",
   "execution_count": 7,
   "id": "74fa4638",
   "metadata": {},
   "outputs": [
    {
     "name": "stdout",
     "output_type": "stream",
     "text": [
      "Mon     Apple\n",
      "Tue     Mango\n",
      "Wen      Kiwi\n",
      "Thu    Orange\n",
      "dtype: object\n",
      "<class 'pandas.core.series.Series'>\n"
     ]
    }
   ],
   "source": [
    "days=['Mon','Tue','Wen','Thu']\n",
    "fruits = ['Apple','Mango','Kiwi','Orange']\n",
    "\n",
    "data=pd.Series(data=fruits,index=days)\n",
    "print(data)\n",
    "print(type(data))  # see the Type of data in data Variable"
   ]
  },
  {
   "cell_type": "code",
   "execution_count": 8,
   "id": "4e4dc7f9",
   "metadata": {},
   "outputs": [
    {
     "name": "stdout",
     "output_type": "stream",
     "text": [
      "1     2.00\n",
      "2     3.45\n",
      "3     6.78\n",
      "4    10.00\n",
      "5    34.67\n",
      "dtype: float64\n"
     ]
    }
   ],
   "source": [
    "# lets Try Onother example \n",
    "Rates=[2,3.45,6.78,10,34.67]\n",
    "Sno=[1,2,3,4,5]\n",
    "data = pd.Series(data=Rates,index=Sno)\n",
    "print(data)"
   ]
  },
  {
   "cell_type": "markdown",
   "id": "75f2ae32",
   "metadata": {},
   "source": [
    "====================== lets Try MathsOperation============"
   ]
  },
  {
   "cell_type": "code",
   "execution_count": 15,
   "id": "6790d8ab",
   "metadata": {},
   "outputs": [
    {
     "name": "stdout",
     "output_type": "stream",
     "text": [
      "sum= 56.900000000000006\n",
      "Avearge= 11.38\n",
      "Product= 16219.319400000002\n",
      "Max_Value= 34.67\n",
      "Min_Value= 2.0\n"
     ]
    }
   ],
   "source": [
    "print('sum=',data.sum())\n",
    "print('Avearge=',data.mean())\n",
    "print('Product=',data.product())\n",
    "print('Max_Value=',data.max())\n",
    "print('Min_Value=',data.min())"
   ]
  },
  {
   "cell_type": "markdown",
   "id": "ca584fc9",
   "metadata": {},
   "source": [
    "# "
   ]
  },
  {
   "cell_type": "markdown",
   "id": "39af23bb",
   "metadata": {},
   "source": [
    "============== how to Read csv File in Pandas =================="
   ]
  },
  {
   "cell_type": "code",
   "execution_count": null,
   "id": "302ee502",
   "metadata": {},
   "outputs": [],
   "source": []
  }
 ],
 "metadata": {
  "kernelspec": {
   "display_name": "Python 3 (ipykernel)",
   "language": "python",
   "name": "python3"
  },
  "language_info": {
   "codemirror_mode": {
    "name": "ipython",
    "version": 3
   },
   "file_extension": ".py",
   "mimetype": "text/x-python",
   "name": "python",
   "nbconvert_exporter": "python",
   "pygments_lexer": "ipython3",
   "version": "3.11.4"
  }
 },
 "nbformat": 4,
 "nbformat_minor": 5
}
